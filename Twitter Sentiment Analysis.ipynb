{
 "cells": [
  {
   "cell_type": "code",
   "execution_count": 10,
   "metadata": {},
   "outputs": [],
   "source": [
    "from textblob import TextBlob"
   ]
  },
  {
   "cell_type": "code",
   "execution_count": 11,
   "metadata": {},
   "outputs": [],
   "source": [
    "wiki=TextBlob(\"happy\")"
   ]
  },
  {
   "cell_type": "code",
   "execution_count": 12,
   "metadata": {},
   "outputs": [
    {
     "data": {
      "text/plain": [
       "[('happy', 'JJ')]"
      ]
     },
     "execution_count": 12,
     "metadata": {},
     "output_type": "execute_result"
    }
   ],
   "source": [
    "wiki.tags"
   ]
  },
  {
   "cell_type": "code",
   "execution_count": 13,
   "metadata": {},
   "outputs": [
    {
     "data": {
      "text/plain": [
       "WordList(['happy'])"
      ]
     },
     "execution_count": 13,
     "metadata": {},
     "output_type": "execute_result"
    }
   ],
   "source": [
    "wiki.words"
   ]
  },
  {
   "cell_type": "code",
   "execution_count": 14,
   "metadata": {},
   "outputs": [
    {
     "data": {
      "text/plain": [
       "0.8"
      ]
     },
     "execution_count": 14,
     "metadata": {},
     "output_type": "execute_result"
    }
   ],
   "source": [
    "wiki.sentiment.polarity"
   ]
  },
  {
   "cell_type": "markdown",
   "metadata": {},
   "source": [
    "FIRST WAY OF DOING IT, EASY WAY!"
   ]
  },
  {
   "cell_type": "code",
   "execution_count": 15,
   "metadata": {},
   "outputs": [],
   "source": [
    "import tweepy"
   ]
  },
  {
   "cell_type": "code",
   "execution_count": 16,
   "metadata": {},
   "outputs": [],
   "source": [
    "consumer_key = 'xxxxxxxxxxxxxxxxxxxxxxxxxx'\n",
    "consumer_secret = 'xxxxxxxxxxxxxxxxxxxxxxxxxx'\n",
    "\n",
    "access_token = 'xxxxxxxxxxxxxxxxxxxxxxxxxx'\n",
    "access_token_secret = 'xxxxxxxxxxxxxxxxxxxxxxxxxx'"
   ]
  },
  {
   "cell_type": "code",
   "execution_count": 17,
   "metadata": {},
   "outputs": [],
   "source": [
    "auth = tweepy.OAuthHandler(consumer_key, consumer_secret)\n",
    "auth.set_access_token(access_token, access_token_secret)"
   ]
  },
  {
   "cell_type": "code",
   "execution_count": 18,
   "metadata": {},
   "outputs": [],
   "source": [
    "api = tweepy.API(auth)"
   ]
  },
  {
   "cell_type": "code",
   "execution_count": 19,
   "metadata": {},
   "outputs": [],
   "source": [
    "public_tweets = api.search('Virat')"
   ]
  },
  {
   "cell_type": "code",
   "execution_count": 20,
   "metadata": {},
   "outputs": [
    {
     "name": "stdout",
     "output_type": "stream",
     "text": [
      "@imVkohli Virat and dhoni\n",
      "Sentiment(polarity=0.0, subjectivity=0.0)\n",
      "RT @BALAYYAfan: Mass moola virat on the way 💪💪💪..#RulerTeaser day💉💉💉\n",
      "#JaiBalayya💪💪\n",
      "#NBK105 https://t.co/H4sZNkI9uR\n",
      "Sentiment(polarity=0.0, subjectivity=0.0)\n",
      "RT @mufaddal_vohra: As expected Babar Azam fails, Australian pitches ain't a joke to score runs in tests! You can never be the same as you'…\n",
      "Sentiment(polarity=-0.15, subjectivity=0.20625)\n",
      "@rajasthanroyals @benstokes38 @imVkohli Virat king chai thandi ho gai,,,😂\n",
      "Sentiment(polarity=0.0, subjectivity=0.0)\n",
      "RT @rk1708199: Mass moola virat on the way 💥💥💥🔥\n",
      "\n",
      "#RulerTeaser https://t.co/NLnybrT3iy\n",
      "Sentiment(polarity=0.0, subjectivity=0.0)\n",
      "Virat Kohli says day-night Test in Kolkata, India’s first, a “landmark occasion”\n",
      "\n",
      "#ViratKohli\n",
      "#INDvsBAN\n",
      "\n",
      "https://t.co/4yNRnhEXRj\n",
      "Sentiment(polarity=0.25, subjectivity=0.3333333333333333)\n",
      "RT @mufaddal_vohra: As expected Babar Azam fails, Australian pitches ain't a joke to score runs in tests! You can never be the same as you'…\n",
      "Sentiment(polarity=-0.15, subjectivity=0.20625)\n",
      "Got the see the whole squad in Sydney airport on there way to the Brisbane test. 🐐 #cricket #ipl2019 #ipl #iplt20… https://t.co/s5EWKzUxkh\n",
      "Sentiment(polarity=0.2, subjectivity=0.4)\n",
      "RT @TrollvkH: \" Virat Kohli Honoured As Person oF The Year , For Being A FIERCE Advocate For Animals in Need \" \n",
      "\n",
      "~ #PETA \n",
      "\n",
      "INSPIRATION For…\n",
      "Sentiment(polarity=0.0, subjectivity=0.0)\n",
      "RT @mufaddal_vohra: As expected Babar Azam fails, Australian pitches ain't a joke to score runs in tests! You can never be the same as you'…\n",
      "Sentiment(polarity=-0.15, subjectivity=0.20625)\n",
      "RT @mufaddal_vohra: As expected Babar Azam fails, Australian pitches ain't a joke to score runs in tests! You can never be the same as you'…\n",
      "Sentiment(polarity=-0.15, subjectivity=0.20625)\n",
      "This is the greatness about the current Indian team imo. Pakistan 160 odd for 6. On this pitch I would back India t… https://t.co/YBo4Dygneq\n",
      "Sentiment(polarity=-0.05555555555555555, subjectivity=0.21666666666666667)\n",
      "RT @ANI: Virat Kohli on India's first day-night Test match at the Eden Gardens in Kolkata tomorrow: This pink ball Test match is a challeng…\n",
      "Sentiment(polarity=0.075, subjectivity=0.31666666666666665)\n",
      "And Pakistani 🇵🇰 Compare Him to virat Kohli \n",
      "लो इनका विराट कोहली 😂🤣\n",
      "\n",
      "Babar Azam\n",
      "#AUSvPAK https://t.co/v8sRE28GrQ\n",
      "Sentiment(polarity=0.0, subjectivity=0.0)\n",
      "RT @Imsahil_11: Virat's life is incomplete without Benstokes https://t.co/khBbi0tDlf\n",
      "Sentiment(polarity=0.0, subjectivity=0.0)\n"
     ]
    }
   ],
   "source": [
    "for tweet in public_tweets:\n",
    "    print(tweet.text)\n",
    "    analysis = TextBlob(tweet.text)\n",
    "    print(analysis.sentiment)"
   ]
  },
  {
   "cell_type": "markdown",
   "metadata": {},
   "source": [
    "SECOND WAY OF DOING IT, DETAILED WAY"
   ]
  },
  {
   "cell_type": "code",
   "execution_count": 21,
   "metadata": {},
   "outputs": [
    {
     "name": "stdout",
     "output_type": "stream",
     "text": [
      "Positive tweets percentage: 41.891891891891895 %\n",
      "Negative tweets percentage: 10.81081081081081 %\n",
      "Neutral tweets percentage: 47.2972972972973 % \n",
      "\n",
      "\n",
      "Positive tweets:\n",
      "Virat Kohli says day-night Test in Kolkata, India’s first, a “landmark occasion”\n",
      "\n",
      "#ViratKohli\n",
      "#INDvsBAN\n",
      "\n",
      "https://t.co/4yNRnhEXRj\n",
      "Got the see the whole squad in Sydney airport on there way to the Brisbane test. 🐐 #cricket #ipl2019 #ipl #iplt20… https://t.co/s5EWKzUxkh\n",
      "RT @ANI: Virat Kohli on India's first day-night Test match at the Eden Gardens in Kolkata tomorrow: This pink ball Test match is a challeng…\n",
      "@aaliaaaliya @babarazam258 It's okay Virat kholi got out cheaply against Bangladesh so not a big deal\n",
      "Virat Kohli on India's first day-night Test match at the Eden Gardens in Kolkata tomorrow: This pink ball Test matc… https://t.co/9KpBYEARwz\n",
      "RT @CricketMatchPr3: Laxman Sivaramakrishnan set to replace MSK Prasad as new BCCI chief selector: Report #cricket #ipl2019 #ipl #iplt20 #i…\n",
      "RT @ndtv: Watch live: Virat Kohli addresses media ahead of first day-night test match. \n",
      "\n",
      "More on https://t.co/Fbzw6mR9Q5 and NDTV 24x7 http…\n",
      "RT @CNNnews18: #LIVE – Virat Kohli addresses media ahead of first Day-Night test match.  https://t.co/zSFm6AipQ9\n",
      "@KhayamSays Virat scored at 68 in his first South African tour, but that's not the point! I'm not comparing them, i… https://t.co/5Mk6qKPKm2\n",
      "RT @Afternoon_Voice: Virat Kohli on India's first day-night Test match at the #EdenGardens in #Kolkata tomorrow: This pink ball Test match…\n",
      "\n",
      "\n",
      "Negative tweets:\n",
      "RT @mufaddal_vohra: As expected Babar Azam fails, Australian pitches ain't a joke to score runs in tests! You can never be the same as you'…\n",
      "This is the greatness about the current Indian team imo. Pakistan 160 odd for 6. On this pitch I would back India t… https://t.co/YBo4Dygneq\n",
      "RT @fakeacc_18: Sachin, Rohit, Dhoni, Babar, Smith, Kane, Root, etc. Do u know whats common?\n",
      "\n",
      "They are all gonna tell their children that t…\n",
      "@PuLL_ShoT @shortarmpull_ Virat failed all 4 matches na ? 1 was 3 or 4 notout in that\n",
      "@Manjnath1960 @Aabhas24 I'm sorry but I disagree. I don't know about others but Virat Kohli is definitely not veget… https://t.co/SPc93ND2qK\n",
      "RT @CricketNDTV: I can't speak for another team or board. But our conversations with the BCCI over the last few years has been to improve o…\n",
      "I can't speak for another team or board. But our conversations with the BCCI over the last few years has been to im… https://t.co/uhGbMdWZpu\n",
      "#NewsAlert – I can’t speak for another team or board. But our conversations with the BCCI over the last few years h… https://t.co/JukeIjAOrk\n"
     ]
    }
   ],
   "source": [
    "import re \n",
    "import tweepy \n",
    "from tweepy import OAuthHandler \n",
    "from textblob import TextBlob \n",
    "\n",
    "class TwitterClient(object): \n",
    "    ''' \n",
    "    Generic Twitter Class for sentiment analysis. \n",
    "    '''\n",
    "    def __init__(self): \n",
    "        ''' \n",
    "        Class constructor or initialization method. \n",
    "        '''\n",
    "        # keys and tokens from the Twitter Dev Console \n",
    "        consumer_key = 'xxxxxxxxxxxxxxxxxxxxxxxxxx'\n",
    "        consumer_secret = 'xxxxxxxxxxxxxxxxxxxxxxxxxx'\n",
    "\n",
    "        access_token = 'xxxxxxxxxxxxxxxxxxxxxxxxxx'\n",
    "        access_token_secret = 'xxxxxxxxxxxxxxxxxxxxxxxxxx'\n",
    "\n",
    "        # attempt authentication \n",
    "        try: \n",
    "            # create OAuthHandler object \n",
    "            self.auth = OAuthHandler(consumer_key, consumer_secret) \n",
    "            # set access token and secret \n",
    "            self.auth.set_access_token(access_token, access_token_secret) \n",
    "            # create tweepy API object to fetch tweets \n",
    "            self.api = tweepy.API(self.auth) \n",
    "        except: \n",
    "            print(\"Error: Authentication Failed\") \n",
    "\n",
    "    def clean_tweet(self, tweet): \n",
    "        ''' \n",
    "        Utility function to clean tweet text by removing links, special characters \n",
    "        using simple regex statements. \n",
    "        '''\n",
    "        return ' '.join(re.sub(\"(@[A-Za-z0-9]+)|([^0-9A-Za-z \\t])|(\\w+:\\/\\/\\S+)\", \" \", tweet).split()) \n",
    "\n",
    "    def get_tweet_sentiment(self, tweet): \n",
    "        ''' \n",
    "        Utility function to classify sentiment of passed tweet \n",
    "        using textblob's sentiment method \n",
    "        '''\n",
    "        # create TextBlob object of passed tweet text \n",
    "        analysis = TextBlob(self.clean_tweet(tweet)) \n",
    "        # set sentiment \n",
    "        if analysis.sentiment.polarity > 0: \n",
    "            return 'positive'\n",
    "        elif analysis.sentiment.polarity == 0: \n",
    "            return 'neutral'\n",
    "        else: \n",
    "            return 'negative'\n",
    "\n",
    "    def get_tweets(self, query, count = 10): \n",
    "        ''' \n",
    "        Main function to fetch tweets and parse them. \n",
    "        '''\n",
    "        # empty list to store parsed tweets \n",
    "        tweets = [] \n",
    "\n",
    "        try: \n",
    "            # call twitter api to fetch tweets \n",
    "            fetched_tweets = self.api.search(q = query, count = count) \n",
    "\n",
    "            # parsing tweets one by one \n",
    "            for tweet in fetched_tweets: \n",
    "                # empty dictionary to store required params of a tweet \n",
    "                parsed_tweet = {} \n",
    "\n",
    "                # saving text of tweet \n",
    "                parsed_tweet['text'] = tweet.text \n",
    "                # saving sentiment of tweet \n",
    "                parsed_tweet['sentiment'] = self.get_tweet_sentiment(tweet.text) \n",
    "\n",
    "                # appending parsed tweet to tweets list \n",
    "                if tweet.retweet_count > 0: \n",
    "                    # if tweet has retweets, ensure that it is appended only once \n",
    "                    if parsed_tweet not in tweets: \n",
    "                        tweets.append(parsed_tweet) \n",
    "                else: \n",
    "                    tweets.append(parsed_tweet) \n",
    "\n",
    "            # return parsed tweets \n",
    "            return tweets \n",
    "\n",
    "        except tweepy.TweepError as e: \n",
    "            # print error (if any) \n",
    "            print(\"Error : \" + str(e)) \n",
    "\n",
    "def main(): \n",
    "    # creating object of TwitterClient Class \n",
    "    api = TwitterClient() \n",
    "    # calling function to get tweets \n",
    "    tweets = api.get_tweets(query = 'Virat', count = 200) \n",
    "\n",
    "    # picking positive tweets from tweets \n",
    "    ptweets = [tweet for tweet in tweets if tweet['sentiment'] == 'positive'] \n",
    "    # percentage of positive tweets \n",
    "    print(\"Positive tweets percentage: {} %\".format(100*len(ptweets)/len(tweets))) \n",
    "    # picking negative tweets from tweets \n",
    "    ntweets = [tweet for tweet in tweets if tweet['sentiment'] == 'negative'] \n",
    "    # percentage of negative tweets \n",
    "    print(\"Negative tweets percentage: {} %\".format(100*len(ntweets)/len(tweets))) \n",
    "    # percentage of neutral tweets \n",
    "    print(\"Neutral tweets percentage: {} % \".format(100*(len(tweets) - len(ntweets) - len(ptweets))/len(tweets))) \n",
    "\n",
    "    # printing first 5 positive tweets \n",
    "    print(\"\\n\\nPositive tweets:\") \n",
    "    for tweet in ptweets[:10]: \n",
    "        print(tweet['text']) \n",
    "\n",
    "    # printing first 5 negative tweets \n",
    "    print(\"\\n\\nNegative tweets:\") \n",
    "    for tweet in ntweets[:10]: \n",
    "        print(tweet['text']) \n",
    "\n",
    "if __name__ == \"__main__\": \n",
    "    # calling main function \n",
    "    main()"
   ]
  },
  {
   "cell_type": "code",
   "execution_count": null,
   "metadata": {},
   "outputs": [],
   "source": []
  }
 ],
 "metadata": {
  "kernelspec": {
   "display_name": "Python 3",
   "language": "python",
   "name": "python3"
  },
  "language_info": {
   "codemirror_mode": {
    "name": "ipython",
    "version": 3
   },
   "file_extension": ".py",
   "mimetype": "text/x-python",
   "name": "python",
   "nbconvert_exporter": "python",
   "pygments_lexer": "ipython3",
   "version": "3.7.3"
  }
 },
 "nbformat": 4,
 "nbformat_minor": 2
}
